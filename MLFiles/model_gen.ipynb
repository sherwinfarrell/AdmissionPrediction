{
 "cells": [
  {
   "cell_type": "code",
   "execution_count": 1,
   "metadata": {},
   "outputs": [],
   "source": [
    "import pandas as pd\n",
    "import numpy as np"
   ]
  },
  {
   "cell_type": "code",
   "execution_count": 6,
   "metadata": {},
   "outputs": [],
   "source": [
    "train=pd.read_csv(\"Admission_Predict_Ver1.1.csv\")\n",
    "data=train.drop(columns=[\"Serial No.\"],axis=1)\n",
    "from sklearn.model_selection import train_test_split\n",
    "\n",
    "X = data.drop(['Chance of Admit '], axis=1)\n",
    "y = data['Chance of Admit ']\n",
    "X_train, X_test, y_train, y_test = train_test_split(X,y,test_size = 0.20, shuffle=False)\n"
   ]
  },
  {
   "cell_type": "code",
   "execution_count": 9,
   "metadata": {},
   "outputs": [
    {
     "name": "stdout",
     "output_type": "stream",
     "text": [
      "Results...\n",
      "DecisionTree 0.09083501527494779\n",
      "Linear Regression 0.0429322074625186\n",
      "Lasso 0.11488570174881235\n",
      "Ridge 0.042894001183573685\n",
      "BayesianRidge 0.042896376283349885\n",
      "ElasticNet 0.08739127414117272\n",
      "HuberRegressor 0.05771262952723615\n",
      "RandomForest 0.05550135133489995\n",
      "KNeighbours 0.06980687645210894\n",
      "SVM 0.08504061872248211\n",
      "AdaBoostClassifier 0.05395351846855121\n",
      "GradientBoostingClassifier 0.04781966439429364\n"
     ]
    }
   ],
   "source": [
    "from sklearn.metrics import accuracy_score\n",
    "from sklearn.linear_model import LinearRegression\n",
    "from sklearn.linear_model import Lasso,Ridge,BayesianRidge,ElasticNet,HuberRegressor,LinearRegression,LogisticRegression,SGDRegressor\n",
    "from sklearn.metrics import mean_squared_error\n",
    "from sklearn.tree import DecisionTreeRegressor\n",
    "from sklearn.ensemble import RandomForestRegressor\n",
    "from sklearn.neighbors import KNeighborsRegressor\n",
    "from sklearn.svm import SVR\n",
    "from sklearn.ensemble import AdaBoostRegressor\n",
    "from sklearn.ensemble import GradientBoostingRegressor\n",
    "import pickle\n",
    "\n",
    "\n",
    "models = [['DecisionTree',DecisionTreeRegressor()],\n",
    "           ['Linear Regression', LinearRegression()],\n",
    "           ['Lasso', Lasso()],\n",
    "           ['Ridge', Ridge()],\n",
    "           ['BayesianRidge', BayesianRidge()],\n",
    "           ['ElasticNet', ElasticNet()],\n",
    "           ['HuberRegressor', HuberRegressor()],\n",
    "           ['RandomForest',RandomForestRegressor()],\n",
    "           ['KNeighbours', KNeighborsRegressor(n_neighbors = 2)],\n",
    "           ['SVM', SVR()],\n",
    "           ['AdaBoostClassifier', AdaBoostRegressor()],\n",
    "           ['GradientBoostingClassifier', GradientBoostingRegressor()]]\n",
    "           \n",
    "          \n",
    "\n",
    "print(\"Results...\")\n",
    "\n",
    "for name, model in models:\n",
    "    model = model\n",
    "    model.fit(X_train, y_train)\n",
    "    with open(name+'.pkl', 'wb') as file:  \n",
    "        pickle.dump(model, file)\n",
    "    predictions = model.predict(X_test)\n",
    "    print(name, (np.sqrt(mean_squared_error(y_test, predictions))))"
   ]
  },
  {
   "cell_type": "code",
   "execution_count": null,
   "metadata": {},
   "outputs": [],
   "source": []
  }
 ],
 "metadata": {
  "kernelspec": {
   "display_name": "Python 3",
   "language": "python",
   "name": "python3"
  },
  "language_info": {
   "codemirror_mode": {
    "name": "ipython",
    "version": 3
   },
   "file_extension": ".py",
   "mimetype": "text/x-python",
   "name": "python",
   "nbconvert_exporter": "python",
   "pygments_lexer": "ipython3",
   "version": "3.6.4"
  }
 },
 "nbformat": 4,
 "nbformat_minor": 2
}
